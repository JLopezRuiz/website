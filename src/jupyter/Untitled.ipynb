{
 "cells": [
  {
   "cell_type": "code",
   "execution_count": 2,
   "id": "c1913a6b-afe5-419f-a39c-1b76bf8b0dfe",
   "metadata": {
    "tags": []
   },
   "outputs": [],
   "source": [
    "# Imports\n",
    "import pandas as pd"
   ]
  },
  {
   "cell_type": "code",
   "execution_count": 12,
   "id": "ef2eb0da-0d6c-4f9e-a2b0-74d6b8cc1929",
   "metadata": {
    "tags": []
   },
   "outputs": [
    {
     "data": {
      "text/html": [
       "<div>\n",
       "<style scoped>\n",
       "    .dataframe tbody tr th:only-of-type {\n",
       "        vertical-align: middle;\n",
       "    }\n",
       "\n",
       "    .dataframe tbody tr th {\n",
       "        vertical-align: top;\n",
       "    }\n",
       "\n",
       "    .dataframe thead th {\n",
       "        text-align: right;\n",
       "    }\n",
       "</style>\n",
       "<table border=\"1\" class=\"dataframe\">\n",
       "  <thead>\n",
       "    <tr style=\"text-align: right;\">\n",
       "      <th></th>\n",
       "      <th>endTime</th>\n",
       "      <th>artistName</th>\n",
       "      <th>trackName</th>\n",
       "      <th>msPlayed</th>\n",
       "    </tr>\n",
       "  </thead>\n",
       "  <tbody>\n",
       "    <tr>\n",
       "      <th>0</th>\n",
       "      <td>2022-07-15 22:49</td>\n",
       "      <td>Mama Aiuto</td>\n",
       "      <td>Paradise Landing</td>\n",
       "      <td>117544</td>\n",
       "    </tr>\n",
       "    <tr>\n",
       "      <th>1</th>\n",
       "      <td>2022-07-17 00:16</td>\n",
       "      <td>Peach Tree Rascals</td>\n",
       "      <td>Fumari</td>\n",
       "      <td>116234</td>\n",
       "    </tr>\n",
       "    <tr>\n",
       "      <th>2</th>\n",
       "      <td>2022-07-17 00:19</td>\n",
       "      <td>Wizkid</td>\n",
       "      <td>Steady</td>\n",
       "      <td>203026</td>\n",
       "    </tr>\n",
       "    <tr>\n",
       "      <th>3</th>\n",
       "      <td>2022-07-17 00:22</td>\n",
       "      <td>1da Banton</td>\n",
       "      <td>No Wahala</td>\n",
       "      <td>162285</td>\n",
       "    </tr>\n",
       "    <tr>\n",
       "      <th>4</th>\n",
       "      <td>2022-07-17 00:25</td>\n",
       "      <td>Ajebutter22</td>\n",
       "      <td>Tungba</td>\n",
       "      <td>188421</td>\n",
       "    </tr>\n",
       "  </tbody>\n",
       "</table>\n",
       "</div>"
      ],
      "text/plain": [
       "            endTime          artistName         trackName  msPlayed\n",
       "0  2022-07-15 22:49          Mama Aiuto  Paradise Landing    117544\n",
       "1  2022-07-17 00:16  Peach Tree Rascals            Fumari    116234\n",
       "2  2022-07-17 00:19              Wizkid            Steady    203026\n",
       "3  2022-07-17 00:22          1da Banton         No Wahala    162285\n",
       "4  2022-07-17 00:25         Ajebutter22            Tungba    188421"
      ]
     },
     "execution_count": 12,
     "metadata": {},
     "output_type": "execute_result"
    }
   ],
   "source": [
    "streaming0 = pd.read_json('../../../my_data/MySpotifyData/StreamingHistory0.json')\n",
    "streaming0.head()"
   ]
  },
  {
   "cell_type": "code",
   "execution_count": 13,
   "id": "41701a8f-948e-457d-8821-3a751b77e27b",
   "metadata": {},
   "outputs": [
    {
     "data": {
      "text/plain": [
       "(10000, 4)"
      ]
     },
     "execution_count": 13,
     "metadata": {},
     "output_type": "execute_result"
    }
   ],
   "source": [
    "streaming0.shape"
   ]
  },
  {
   "cell_type": "code",
   "execution_count": 14,
   "id": "265220a0-3f74-4631-8aca-fc1ff5466c2f",
   "metadata": {
    "tags": []
   },
   "outputs": [
    {
     "data": {
      "text/plain": [
       "(3773, 4)"
      ]
     },
     "execution_count": 14,
     "metadata": {},
     "output_type": "execute_result"
    }
   ],
   "source": [
    "streaming1 = pd.read_json('../../../my_data/MySpotifyData/StreamingHistory1.json')\n",
    "streaming1.shape"
   ]
  },
  {
   "cell_type": "code",
   "execution_count": 15,
   "id": "ca5ecaea-9dbd-4f29-bdca-f9bc74ee89a0",
   "metadata": {
    "tags": []
   },
   "outputs": [
    {
     "data": {
      "text/plain": [
       "(13773, 4)"
      ]
     },
     "execution_count": 15,
     "metadata": {},
     "output_type": "execute_result"
    }
   ],
   "source": [
    "totalStreaming = pd.concat([streaming0, streaming1])\n",
    "totalStreaming.shape"
   ]
  },
  {
   "cell_type": "code",
   "execution_count": 17,
   "id": "6589f0b5-4c55-477e-a39a-6fddc96b8315",
   "metadata": {
    "tags": []
   },
   "outputs": [
    {
     "name": "stdout",
     "output_type": "stream",
     "text": [
      "Taylor Swift         485\n",
      "Bad Bunny            326\n",
      "Ariana Grande        264\n",
      "KAROL G              211\n",
      "Claire Rosinkranz    192\n",
      "Harry Styles         190\n",
      "Becky G              175\n",
      "Camilo               164\n",
      "Aminé                156\n",
      "Surfaces             130\n",
      "Name: artistName, dtype: int64\n"
     ]
    }
   ],
   "source": [
    "print(totalStreaming['artistName'].value_counts()[:10])"
   ]
  },
  {
   "cell_type": "code",
   "execution_count": 18,
   "id": "e1075228-f87f-4735-949b-2c9c4e9f71d6",
   "metadata": {
    "tags": []
   },
   "outputs": [
    {
     "name": "stdout",
     "output_type": "stream",
     "text": [
      "Come With Me                    75\n",
      "Butterflies                     68\n",
      "Ojitos Lindos                   68\n",
      "Frankenstein                    68\n",
      "Tacones Rojos                   66\n",
      "JEAN POCKET                     66\n",
      "blind                           65\n",
      "Todo De Ti                      64\n",
      "Coast (feat. Anderson .Paak)    63\n",
      "Otro Atardecer                  61\n",
      "Name: trackName, dtype: int64\n"
     ]
    }
   ],
   "source": [
    "print(totalStreaming['trackName'].value_counts()[:10])"
   ]
  },
  {
   "cell_type": "code",
   "execution_count": 27,
   "id": "775e0dca-d3a3-4386-84cc-d603c31e678f",
   "metadata": {
    "tags": []
   },
   "outputs": [
    {
     "name": "stdout",
     "output_type": "stream",
     "text": [
      "artistName         trackName                   \n",
      "Surfaces           Come With Me                    75\n",
      "Bad Bunny          Ojitos Lindos                   68\n",
      "Claire Rosinkranz  Frankenstein                    68\n",
      "Fiji Blue          Butterflies                     66\n",
      "MIKNNA             JEAN POCKET                     66\n",
      "Sebastian Yatra    Tacones Rojos                   66\n",
      "ROLE MODEL         blind                           65\n",
      "Rauw Alejandro     Todo De Ti                      64\n",
      "Hailee Steinfeld   Coast (feat. Anderson .Paak)    63\n",
      "Bad Bunny          Otro Atardecer                  61\n",
      "Name: trackName, dtype: int64\n"
     ]
    }
   ],
   "source": [
    "top10tracks = totalStreaming.groupby(['artistName']).trackName.value_counts().nlargest(10)\n",
    "print(top10tracks)"
   ]
  },
  {
   "cell_type": "code",
   "execution_count": 30,
   "id": "2cac43c1-984e-4100-b8e1-8d01cefd5976",
   "metadata": {
    "tags": []
   },
   "outputs": [
    {
     "data": {
      "text/plain": [
       "Taylor Swift         485\n",
       "Bad Bunny            326\n",
       "Ariana Grande        264\n",
       "KAROL G              211\n",
       "Claire Rosinkranz    192\n",
       "Harry Styles         190\n",
       "Becky G              175\n",
       "Camilo               164\n",
       "Aminé                156\n",
       "Surfaces             130\n",
       "Name: artistName, dtype: int64"
      ]
     },
     "execution_count": 30,
     "metadata": {},
     "output_type": "execute_result"
    }
   ],
   "source": [
    "# .plot.bar()\n"
   ]
  }
 ],
 "metadata": {
  "kernelspec": {
   "display_name": "Python 3",
   "language": "python",
   "name": "python3"
  },
  "language_info": {
   "codemirror_mode": {
    "name": "ipython",
    "version": 3
   },
   "file_extension": ".py",
   "mimetype": "text/x-python",
   "name": "python",
   "nbconvert_exporter": "python",
   "pygments_lexer": "ipython3",
   "version": "3.7.1"
  }
 },
 "nbformat": 4,
 "nbformat_minor": 5
}
