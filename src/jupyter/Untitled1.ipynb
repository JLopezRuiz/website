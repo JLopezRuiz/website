{
 "cells": [
  {
   "cell_type": "markdown",
   "id": "04c02739-34c6-4b81-9d49-8eb6c914b8f2",
   "metadata": {
    "tags": []
   },
   "source": [
    "## Oveview"
   ]
  },
  {
   "cell_type": "markdown",
   "id": "fe14ad72-fbf3-4f5a-9c60-810ad3d05301",
   "metadata": {},
   "source": [
    "Summary of the study and data, as well as any relevant substantive context, background, or\n",
    "framing issues.\n",
    "• The “big questions” answered by your data analyses, and summaries of your conclusions about\n",
    "these questions."
   ]
  },
  {
   "cell_type": "markdown",
   "id": "f66cd264-6dd1-466b-869e-e4391db637e8",
   "metadata": {},
   "source": [
    "## Data"
   ]
  },
  {
   "cell_type": "markdown",
   "id": "3f3f75bf-c4b9-4e05-bfdc-72a7761bd6a2",
   "metadata": {},
   "source": [
    "Explain what data you used to conduct your analysis. Be specific and explain how you gathered the data, what your sample was, what tools and resources you’ve used, and how you’ve organized your data. This will give the reader a deeper understanding of your data sample and make your report more solid.\n",
    "\n",
    "Also, explain why you choose the specific data for your sample. For instance, you may say “The sample only includes data of the customers acquired during 2021, in the peak of the pandemic.”"
   ]
  },
  {
   "cell_type": "markdown",
   "id": "2a95123a-06cd-433c-8cc8-4807024cfa4f",
   "metadata": {},
   "source": [
    "## Methods (Visualzations? Models?)"
   ]
  },
  {
   "cell_type": "markdown",
   "id": "a9171f0e-4dbf-489f-be1c-c25d0f29c77d",
   "metadata": {},
   "source": [
    "This means you’ll show your calculations, charts, and analyses, step by step. Add descriptions and explain each of the steps. Try making it as simple as possible so that even the most inexperienced of your readers understand every word."
   ]
  },
  {
   "cell_type": "markdown",
   "id": "7d15ee90-3c32-41c0-a481-e64b547732a7",
   "metadata": {},
   "source": [
    "## Analysis (results)"
   ]
  },
  {
   "cell_type": "markdown",
   "id": "04ca1c5b-be2a-4b13-aba5-4782e981fd94",
   "metadata": {},
   "source": [
    "looong \n",
    "\n",
    "Because it’ll answer the questions you’ve all raised. It shares the results that were reached and gives the reader new findings, facts, and evidence. \n",
    "\n",
    "So, explain and describe the results using numbers. Then, add a written description of what each of the numbers stands for and what it means for the entire analysis. Summarize your results and finalize the report on a strong note. "
   ]
  },
  {
   "cell_type": "markdown",
   "id": "3628aebe-48aa-46bd-a411-e1fe59d5387b",
   "metadata": {},
   "source": [
    "## Conclusion"
   ]
  },
  {
   "cell_type": "markdown",
   "id": "f624886c-2128-4203-a8e1-c13038ff0a01",
   "metadata": {},
   "source": [
    "short summary\n",
    "\n",
    "explain:\n",
    "\n",
    "the question you’ve raised and answered with the analysis\n",
    "\n",
    "context of the analysis and background information\n",
    "\n",
    "short outline of the report"
   ]
  },
  {
   "cell_type": "code",
   "execution_count": null,
   "id": "d14193fb-1b16-4426-8354-66e6be4062ee",
   "metadata": {},
   "outputs": [],
   "source": []
  }
 ],
 "metadata": {
  "kernelspec": {
   "display_name": "Python 3",
   "language": "python",
   "name": "python3"
  },
  "language_info": {
   "codemirror_mode": {
    "name": "ipython",
    "version": 3
   },
   "file_extension": ".py",
   "mimetype": "text/x-python",
   "name": "python",
   "nbconvert_exporter": "python",
   "pygments_lexer": "ipython3",
   "version": "3.7.1"
  }
 },
 "nbformat": 4,
 "nbformat_minor": 5
}
